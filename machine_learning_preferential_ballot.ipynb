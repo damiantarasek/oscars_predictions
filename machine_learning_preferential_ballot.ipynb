{
 "cells": [
  {
   "cell_type": "code",
   "execution_count": 1,
   "metadata": {},
   "outputs": [],
   "source": [
    "import pandas as pd\n",
    "import numpy as np\n",
    "from sklearn.tree import DecisionTreeClassifier"
   ]
  },
  {
   "cell_type": "code",
   "execution_count": 2,
   "metadata": {},
   "outputs": [
    {
     "data": {
      "text/plain": [
       "array([0, 8, 2, 4, 6, 3, 5, 7, 1])"
      ]
     },
     "execution_count": 2,
     "metadata": {},
     "output_type": "execute_result"
    }
   ],
   "source": [
    "\n",
    "num_nominees = 9\n",
    "\n",
    "np.random.choice(num_nominees, num_nominees, replace = False)"
   ]
  },
  {
   "cell_type": "code",
   "execution_count": 3,
   "metadata": {},
   "outputs": [],
   "source": [
    "full_table = pd.read_csv('./data/processed_results/osc_df')"
   ]
  },
  {
   "cell_type": "markdown",
   "metadata": {},
   "source": [
    "# Setting Up our DataFrame\n",
    "First, we load in the ML ready data frame from the table_assemling notebook"
   ]
  },
  {
   "cell_type": "code",
   "execution_count": 4,
   "metadata": {},
   "outputs": [
    {
     "name": "stdout",
     "output_type": "stream",
     "text": [
      "training set contains: 154 movies\n",
      "Prediciting on: 9 movies\n"
     ]
    }
   ],
   "source": [
    "min_year = 1995 # This is the first year that all awards shows have occured\n",
    "\n",
    "# Training Set - Excluding 2019\n",
    "train = full_table.loc[((full_table['year'] < 2019) & (full_table['year'] > min_year))]\n",
    "test_2019 = full_table.loc[(full_table['year'] == 2019)]\n",
    "\n",
    "print('training set contains:', train.shape[0], 'movies')\n",
    "print('Prediciting on:', test_2019.shape[0], 'movies')"
   ]
  },
  {
   "cell_type": "code",
   "execution_count": 5,
   "metadata": {},
   "outputs": [],
   "source": [
    "# Identify predictors\n",
    "\n",
    "full_predictors = ['year','nom_gg_drama', 'winner_gg_drama', 'nom_gg_comedy', 'winner_gg_comedy',\n",
    "       'nom_pga', 'winner_pga', 'nom_bafta', 'winner_bafta', 'nom_dga', 'winner_dga',\n",
    "        'nom_sag', 'winner_sag', 'nom_cannes', 'winner_cannes','Nominations']"
   ]
  },
  {
   "cell_type": "markdown",
   "metadata": {},
   "source": [
    "# Simulating a Voter using a Decision Tree\n",
    "Each 'Voter' will take a Decisions Tree trained on a smaller part of the data to pick that voter's rankings of the Best Picture Nominees"
   ]
  },
  {
   "cell_type": "code",
   "execution_count": 6,
   "metadata": {},
   "outputs": [],
   "source": [
    "# The model I am using to predict per voter is a Decison Tree\n",
    "voter1 = DecisionTreeClassifier(splitter='random',\n",
    "                                max_depth=3,# Low depth allows for some randomness\n",
    "                                min_samples_leaf=3,\n",
    "                                random_state = 92)"
   ]
  },
  {
   "cell_type": "code",
   "execution_count": 7,
   "metadata": {},
   "outputs": [],
   "source": [
    "def simulate_a_vote(model, train_df, to_predict_df, full_predictors):\n",
    "    train = train_df.copy()\n",
    "    test = to_predict_df.copy()\n",
    "    \n",
    "    # A noise column, randomly generated each time represents a voter's bias\n",
    "    train.loc[:,'Noise'] = np.random.rand(train_df.shape[0])\n",
    "    test.loc[:,'Noise'] = np.random.rand(to_predict_df.shape[0])\n",
    "\n",
    "    # Looking at a random amount of awards shows (similar to bootstrapping)\n",
    "    # This reflects a voter's attention to the season\n",
    "    # num_features is how many of the features they care about\n",
    "    num_features = np.random.choice(int(len(full_predictors)/1.7))\n",
    "    voter_features = list(np.random.choice(full_predictors, num_features)) + ['Noise']\n",
    "\n",
    "    x = np.array(train[voter_features])\n",
    "    y = np.array(train['Oscar_win'])\n",
    "    \n",
    "    model.fit(x,y)\n",
    "    \n",
    "    # ProbA of the voter will represent the ranked votes\n",
    "    ballot_clean = model.predict_proba(np.array(test[voter_features]))[:,1]\n",
    "    # Add small random values to break up ties\n",
    "    ballot = ballot_clean + np.random.rand(len(ballot_clean))/10000\n",
    "    \n",
    "    # Use np.argsort() to rank the order of the probA\n",
    "    # The Academy uses ranked votes calculate winner\n",
    "    temp = ballot.argsort()\n",
    "    ranks = np.empty_like(temp)\n",
    "    ranks[temp] = np.arange(len(ballot))\n",
    "    ranks = np.abs(ranks - len(ballot))\n",
    "    return ranks"
   ]
  },
  {
   "cell_type": "code",
   "execution_count": 26,
   "metadata": {},
   "outputs": [
    {
     "name": "stdout",
     "output_type": "stream",
     "text": [
      "This voter's ballot looks like: [9 3 8 4 5 7 2 6 1]\n",
      "This means their first choice is the 9th film in our df: Parasite (2019 film)\n"
     ]
    }
   ],
   "source": [
    "vote = simulate_a_vote(voter1, train, test_2019, full_predictors)\n",
    "print(\"This voter's ballot looks like:\",vote)\n",
    "position = np.argmin(vote)\n",
    "print(f\"This means their first choice is the {position + 1}th film in our df: {list(test_2019.film)[position]}\")"
   ]
  },
  {
   "cell_type": "markdown",
   "metadata": {},
   "source": [
    "# Simulating the Entire Academy\n",
    "By 'casting a vote' many times, we can get the ballot from the entire academy"
   ]
  },
  {
   "cell_type": "code",
   "execution_count": 9,
   "metadata": {},
   "outputs": [],
   "source": [
    "def simulate_voting_body(num_voters, model, train_df, to_predict_df, full_predictors):\n",
    "    collected_ballots = np.zeros((num_voters, to_predict_df.shape[0]))\n",
    "    for i in range(num_voters):\n",
    "        collected_ballots[i,:] = simulate_a_vote(model, train_df, to_predict_df, full_predictors)\n",
    "    return collected_ballots"
   ]
  },
  {
   "cell_type": "code",
   "execution_count": 31,
   "metadata": {},
   "outputs": [
    {
     "name": "stdout",
     "output_type": "stream",
     "text": [
      "Here is an example of a 5-person Academy:\n",
      "[[8. 3. 5. 9. 7. 6. 1. 4. 2.]\n",
      " [7. 8. 2. 9. 6. 4. 5. 1. 3.]\n",
      " [4. 3. 7. 2. 8. 1. 9. 5. 6.]\n",
      " [6. 8. 7. 4. 9. 5. 2. 3. 1.]\n",
      " [7. 4. 3. 9. 8. 6. 2. 5. 1.]]\n"
     ]
    }
   ],
   "source": [
    "n = 5\n",
    "print(f'Here is an example of a {n}-person Academy:')\n",
    "print(simulate_voting_body(n, voter1, train, test_2019, full_predictors))"
   ]
  },
  {
   "cell_type": "code",
   "execution_count": 11,
   "metadata": {},
   "outputs": [],
   "source": [
    "def tally_votes(voting_body, list_of_nominees):\n",
    "    # List of nominees must be in the same order as the vote index\n",
    "    firsts = np.where(voting_body==1,1,0)\n",
    "    tally = np.sum(firsts, axis = 0)\n",
    "    tallied_votes_df = pd.DataFrame(tally, columns=['Votes']).T\n",
    "    tallied_votes_df.columns = list_of_nominees\n",
    "    return tallied_votes_df.T.sort_values('Votes', ascending = False)"
   ]
  },
  {
   "cell_type": "code",
   "execution_count": 32,
   "metadata": {},
   "outputs": [
    {
     "name": "stdout",
     "output_type": "stream",
     "text": [
      "Overall, this 1000-person academy's top picks look like this:\n"
     ]
    },
    {
     "data": {
      "text/html": [
       "<div>\n",
       "<style scoped>\n",
       "    .dataframe tbody tr th:only-of-type {\n",
       "        vertical-align: middle;\n",
       "    }\n",
       "\n",
       "    .dataframe tbody tr th {\n",
       "        vertical-align: top;\n",
       "    }\n",
       "\n",
       "    .dataframe thead th {\n",
       "        text-align: right;\n",
       "    }\n",
       "</style>\n",
       "<table border=\"1\" class=\"dataframe\">\n",
       "  <thead>\n",
       "    <tr style=\"text-align: right;\">\n",
       "      <th></th>\n",
       "      <th>Votes</th>\n",
       "    </tr>\n",
       "  </thead>\n",
       "  <tbody>\n",
       "    <tr>\n",
       "      <th>1917 (2019 film)</th>\n",
       "      <td>458</td>\n",
       "    </tr>\n",
       "    <tr>\n",
       "      <th>Parasite (2019 film)</th>\n",
       "      <td>162</td>\n",
       "    </tr>\n",
       "    <tr>\n",
       "      <th>Once Upon a Time in Hollywood</th>\n",
       "      <td>125</td>\n",
       "    </tr>\n",
       "    <tr>\n",
       "      <th>The Irishman</th>\n",
       "      <td>80</td>\n",
       "    </tr>\n",
       "    <tr>\n",
       "      <th>Joker (2019 film)</th>\n",
       "      <td>50</td>\n",
       "    </tr>\n",
       "    <tr>\n",
       "      <th>Jojo Rabbit</th>\n",
       "      <td>47</td>\n",
       "    </tr>\n",
       "    <tr>\n",
       "      <th>Ford v Ferrari</th>\n",
       "      <td>27</td>\n",
       "    </tr>\n",
       "    <tr>\n",
       "      <th>Little Women (2019 film)</th>\n",
       "      <td>26</td>\n",
       "    </tr>\n",
       "    <tr>\n",
       "      <th>Marriage Story</th>\n",
       "      <td>25</td>\n",
       "    </tr>\n",
       "  </tbody>\n",
       "</table>\n",
       "</div>"
      ],
      "text/plain": [
       "                               Votes\n",
       "1917 (2019 film)                 458\n",
       "Parasite (2019 film)             162\n",
       "Once Upon a Time in Hollywood    125\n",
       "The Irishman                      80\n",
       "Joker (2019 film)                 50\n",
       "Jojo Rabbit                       47\n",
       "Ford v Ferrari                    27\n",
       "Little Women (2019 film)          26\n",
       "Marriage Story                    25"
      ]
     },
     "execution_count": 32,
     "metadata": {},
     "output_type": "execute_result"
    }
   ],
   "source": [
    "n = 1000\n",
    "this_academy = simulate_voting_body(n, voter1, train, test_2019, full_predictors)\n",
    "print(f\"Overall, this {n}-person academy's top picks look like this:\")\n",
    "tally_votes(this_academy, list(test_2019.film))"
   ]
  },
  {
   "cell_type": "markdown",
   "metadata": {},
   "source": [
    "# Tiered Voting Changes\n",
    "We start elimnating the least voted for film from the ballots and re-ranking the films"
   ]
  },
  {
   "cell_type": "code",
   "execution_count": 13,
   "metadata": {},
   "outputs": [],
   "source": [
    "def remove_least(voting_body, list_of_nominees):\n",
    "    # List of nominees must be in the same order as the vote index\n",
    "    firsts = np.where(voting_body==1,1,0)\n",
    "    tally = np.sum(firsts, axis = 0)\n",
    "    least_votes_index = np.argmin(tally)\n",
    "    # Removes the least voted entry (from # 1 to 0)\n",
    "    voting_body = np.delete(voting_body, least_votes_index, axis = 1)\n",
    "    list_of_nominees.remove(list_of_nominees[least_votes_index])\n",
    "    return voting_body, list_of_nominees"
   ]
  },
  {
   "cell_type": "code",
   "execution_count": 14,
   "metadata": {},
   "outputs": [],
   "source": [
    "def re_rank_ballots(voting_body):\n",
    "    \"\"\"\n",
    "    Takes a voting body (numpy array)\n",
    "    Makes sure each row goes from 1 to shape[1]\n",
    "    \"\"\"\n",
    "    re_ranked = np.zeros(voting_body.shape)\n",
    "    for i in range(voting_body.shape[0]):\n",
    "        temp = voting_body[i,:].argsort()\n",
    "        ranks = np.empty_like(temp)\n",
    "        ranks[temp] = np.arange(len(voting_body[i,:]))\n",
    "        re_ranked[i,:] = ranks + 1\n",
    "    return re_ranked"
   ]
  },
  {
   "cell_type": "code",
   "execution_count": 15,
   "metadata": {},
   "outputs": [],
   "source": [
    "def run_one_round_of_eliminations(voting_body, list_of_nominees):\n",
    "    voting_body, list_of_nominees = remove_least(voting_body, list_of_nominees)\n",
    "    voting_body = re_rank_ballots(voting_body)\n",
    "    return voting_body, list_of_nominees"
   ]
  },
  {
   "cell_type": "code",
   "execution_count": 33,
   "metadata": {},
   "outputs": [
    {
     "name": "stdout",
     "output_type": "stream",
     "text": [
      "8 films remaining\n",
      "\n",
      "New Standings:\n"
     ]
    },
    {
     "data": {
      "text/html": [
       "<div>\n",
       "<style scoped>\n",
       "    .dataframe tbody tr th:only-of-type {\n",
       "        vertical-align: middle;\n",
       "    }\n",
       "\n",
       "    .dataframe tbody tr th {\n",
       "        vertical-align: top;\n",
       "    }\n",
       "\n",
       "    .dataframe thead th {\n",
       "        text-align: right;\n",
       "    }\n",
       "</style>\n",
       "<table border=\"1\" class=\"dataframe\">\n",
       "  <thead>\n",
       "    <tr style=\"text-align: right;\">\n",
       "      <th></th>\n",
       "      <th>Votes</th>\n",
       "    </tr>\n",
       "  </thead>\n",
       "  <tbody>\n",
       "    <tr>\n",
       "      <th>1917 (2019 film)</th>\n",
       "      <td>462</td>\n",
       "    </tr>\n",
       "    <tr>\n",
       "      <th>Parasite (2019 film)</th>\n",
       "      <td>165</td>\n",
       "    </tr>\n",
       "    <tr>\n",
       "      <th>Once Upon a Time in Hollywood</th>\n",
       "      <td>125</td>\n",
       "    </tr>\n",
       "    <tr>\n",
       "      <th>The Irishman</th>\n",
       "      <td>87</td>\n",
       "    </tr>\n",
       "    <tr>\n",
       "      <th>Joker (2019 film)</th>\n",
       "      <td>53</td>\n",
       "    </tr>\n",
       "    <tr>\n",
       "      <th>Jojo Rabbit</th>\n",
       "      <td>50</td>\n",
       "    </tr>\n",
       "    <tr>\n",
       "      <th>Ford v Ferrari</th>\n",
       "      <td>31</td>\n",
       "    </tr>\n",
       "    <tr>\n",
       "      <th>Little Women (2019 film)</th>\n",
       "      <td>27</td>\n",
       "    </tr>\n",
       "  </tbody>\n",
       "</table>\n",
       "</div>"
      ],
      "text/plain": [
       "                               Votes\n",
       "1917 (2019 film)                 462\n",
       "Parasite (2019 film)             165\n",
       "Once Upon a Time in Hollywood    125\n",
       "The Irishman                      87\n",
       "Joker (2019 film)                 53\n",
       "Jojo Rabbit                       50\n",
       "Ford v Ferrari                    31\n",
       "Little Women (2019 film)          27"
      ]
     },
     "execution_count": 33,
     "metadata": {},
     "output_type": "execute_result"
    }
   ],
   "source": [
    "new_votes, new_noms = run_one_round_of_eliminations(this_academy, list(test_2019.film))\n",
    "\n",
    "print(len(new_noms), 'films remaining')\n",
    "print('\\nNew Standings:')\n",
    "tally_votes(new_votes, new_noms)"
   ]
  },
  {
   "cell_type": "markdown",
   "metadata": {},
   "source": [
    "## Re-Rank until one film has more than 50% of the vote\n",
    "This is where the real simulation comes in.\n",
    "We put together all the previous functions to simulate the result of the 2019 Best Picture voting"
   ]
  },
  {
   "cell_type": "code",
   "execution_count": 17,
   "metadata": {},
   "outputs": [],
   "source": [
    "def run_preferential_voting(voting_body,list_of_nominees, show_steps = False):\n",
    "    top_pick_percent = tally_votes(voting_body,list_of_nominees).max()[0]/tally_votes(voting_body,list_of_nominees).sum()[0]\n",
    "    while top_pick_percent < 0.5:\n",
    "        voting_body,list_of_nominees = run_one_round_of_eliminations(voting_body, list_of_nominees)\n",
    "        top_pick_percent = tally_votes(voting_body,list_of_nominees).max()[0]/tally_votes(voting_body,list_of_nominees).sum()[0]    \n",
    "        if show_steps:\n",
    "            print(tally_votes(voting_body, list_of_nominees),'\\n')\n",
    "    return voting_body, list_of_nominees"
   ]
  },
  {
   "cell_type": "markdown",
   "metadata": {},
   "source": [
    "# Lets Simulate the Oscars!"
   ]
  },
  {
   "cell_type": "code",
   "execution_count": 34,
   "metadata": {},
   "outputs": [
    {
     "name": "stdout",
     "output_type": "stream",
     "text": [
      "training set contains: 154 movies\n",
      "Prediciting on: 9 movies\n",
      "\n",
      "Simulating an Academy with 7000 random voters.....\n",
      "\n",
      "Initial Rankings:\n",
      "                               Votes\n",
      "1917 (2019 film)                3053\n",
      "Parasite (2019 film)            1334\n",
      "Once Upon a Time in Hollywood    735\n",
      "The Irishman                     636\n",
      "Jojo Rabbit                      346\n",
      "Joker (2019 film)                344\n",
      "Marriage Story                   221\n",
      "Little Women (2019 film)         188\n",
      "Ford v Ferrari                   143 \n",
      "\n",
      "Now we start eliminating films untill there one has more than 50% of the top picks\n",
      "                               Votes\n",
      "1917 (2019 film)                3076\n",
      "Parasite (2019 film)            1351\n",
      "Once Upon a Time in Hollywood    748\n",
      "The Irishman                     662\n",
      "Joker (2019 film)                357\n",
      "Jojo Rabbit                      353\n",
      "Marriage Story                   241\n",
      "Little Women (2019 film)         212 \n",
      "\n",
      "                               Votes\n",
      "1917 (2019 film)                3112\n",
      "Parasite (2019 film)            1376\n",
      "Once Upon a Time in Hollywood    779\n",
      "The Irishman                     690\n",
      "Joker (2019 film)                389\n",
      "Jojo Rabbit                      380\n",
      "Marriage Story                   274 \n",
      "\n",
      "                               Votes\n",
      "1917 (2019 film)                3164\n",
      "Parasite (2019 film)            1414\n",
      "Once Upon a Time in Hollywood    817\n",
      "The Irishman                     736\n",
      "Joker (2019 film)                445\n",
      "Jojo Rabbit                      424 \n",
      "\n",
      "                               Votes\n",
      "1917 (2019 film)                3234\n",
      "Parasite (2019 film)            1504\n",
      "Once Upon a Time in Hollywood    923\n",
      "The Irishman                     847\n",
      "Joker (2019 film)                492 \n",
      "\n",
      "                               Votes\n",
      "1917 (2019 film)                3372\n",
      "Parasite (2019 film)            1610\n",
      "Once Upon a Time in Hollywood   1042\n",
      "The Irishman                     976 \n",
      "\n",
      "                               Votes\n",
      "1917 (2019 film)                3653\n",
      "Parasite (2019 film)            1907\n",
      "Once Upon a Time in Hollywood   1440 \n",
      "\n"
     ]
    }
   ],
   "source": [
    "min_year = 1995\n",
    "\n",
    "# Training Set - Excluding 2019\n",
    "train = full_table.loc[((full_table['year'] < 2019) & (full_table['year'] > min_year))]\n",
    "test_2019 = full_table.loc[(full_table['year'] == 2019)]\n",
    "\n",
    "print('training set contains:', train.shape[0], 'movies')\n",
    "print('Prediciting on:', test_2019.shape[0], 'movies')\n",
    "\n",
    "# Identify features to predict on\n",
    "full_predictors = ['year','nom_gg_drama', 'winner_gg_drama', 'nom_gg_comedy', 'winner_gg_comedy',\n",
    "       'nom_pga', 'winner_pga', 'nom_bafta', 'winner_bafta', 'nom_dga', 'winner_dga',\n",
    "        'nom_sag', 'winner_sag', 'nom_cannes', 'winner_cannes','Nominations']\n",
    "\n",
    "# Pict the model we want for each random voter\n",
    "voter_model = DecisionTreeClassifier(splitter='random',\n",
    "                                max_depth=3,\n",
    "                                min_samples_leaf=3,\n",
    "                                random_state = 92)\n",
    "\n",
    "num_voters_academy = 7000\n",
    "print(f'\\nSimulating an Academy with {num_voters_academy} random voters.....')\n",
    "academy_sim = simulate_voting_body(num_voters=num_voters_academy, model = voter_model, train_df = train, to_predict_df = test_2019, full_predictors=full_predictors)\n",
    "\n",
    "print('\\nInitial Rankings:\\n----------------------------------------')\n",
    "print(tally_votes(academy_sim, list(test_2019.film)),'\\n')\n",
    "print(\"Now we start eliminating films untill there one has more than 50% of the top picks:\\n----------------------------------------\")\n",
    "final_ballot, final_films = run_preferential_voting(academy_sim, list(test_2019.film),True)"
   ]
  },
  {
   "cell_type": "markdown",
   "metadata": {},
   "source": [
    "# And the Oscar goes to..."
   ]
  },
  {
   "cell_type": "code",
   "execution_count": 42,
   "metadata": {},
   "outputs": [
    {
     "name": "stdout",
     "output_type": "stream",
     "text": [
      "And the Oscar goes to...\n",
      "🎉🏆1917🏆🎉\n"
     ]
    }
   ],
   "source": [
    "bp_winner = np.array(tally_votes(final_ballot, final_films).reset_index())[0][0].split('(')[0].strip()\n",
    "print(f'And the Oscar goes to...\\n🎉🏆{bp_winner}🏆🎉')"
   ]
  }
 ],
 "metadata": {
  "kernelspec": {
   "display_name": "Python 3",
   "language": "python",
   "name": "python3"
  },
  "language_info": {
   "codemirror_mode": {
    "name": "ipython",
    "version": 3
   },
   "file_extension": ".py",
   "mimetype": "text/x-python",
   "name": "python",
   "nbconvert_exporter": "python",
   "pygments_lexer": "ipython3",
   "version": "3.7.3"
  }
 },
 "nbformat": 4,
 "nbformat_minor": 2
}
