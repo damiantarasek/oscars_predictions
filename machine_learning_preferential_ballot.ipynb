{
 "cells": [
  {
   "cell_type": "markdown",
   "metadata": {},
   "source": [
    "# 3-Machine Learning with the Preferential Balloting Random Forest\n",
    "In this notebook, I create and run the Random Forest setup of my own design, the Preferential Balloting Random Forest. By running many decorrelated Decision Tree Classifiers on my Awards Season data set (see [scraping](https://github.com/njparker1993/oscars_predictions/blob/master/scraping.ipynb) and [table_assemblage](https://github.com/njparker1993/oscars_predictions/blob/master/table_assembling.ipynb) notebooks for the feature creation). Using this strategy I simulate the Oscars with a voting body of around 7,000 members."
   ]
  },
  {
   "cell_type": "code",
   "execution_count": 1,
   "metadata": {},
   "outputs": [],
   "source": [
    "import pandas as pd\n",
    "import numpy as np\n",
    "from sklearn.tree import DecisionTreeClassifier"
   ]
  },
  {
   "cell_type": "markdown",
   "metadata": {},
   "source": [
    "# Setting Up our DataFrame\n",
    "First, we load in the ML ready data frame from the table_assemling notebook"
   ]
  },
  {
   "cell_type": "code",
   "execution_count": 2,
   "metadata": {},
   "outputs": [],
   "source": [
    "full_table = pd.read_csv('./data/processed_results/osc_df')"
   ]
  },
  {
   "cell_type": "code",
   "execution_count": 3,
   "metadata": {},
   "outputs": [
    {
     "name": "stdout",
     "output_type": "stream",
     "text": [
      "training set contains: 154 movies\n",
      "Prediciting on: 9 movies\n"
     ]
    }
   ],
   "source": [
    "min_year = 1995 # This is the first year that all awards shows have occured\n",
    "\n",
    "# Training Set - Excluding 2019\n",
    "train = full_table.loc[((full_table['year'] < 2019) & (full_table['year'] > min_year))]\n",
    "test_2019 = full_table.loc[(full_table['year'] == 2019)]\n",
    "\n",
    "print('training set contains:', train.shape[0], 'movies')\n",
    "print('Prediciting on:', test_2019.shape[0], 'movies')"
   ]
  },
  {
   "cell_type": "code",
   "execution_count": 4,
   "metadata": {},
   "outputs": [],
   "source": [
    "# Identify predictors\n",
    "\n",
    "full_predictors = ['year','nom_gg_drama', 'winner_gg_drama', 'nom_gg_comedy', 'winner_gg_comedy',\n",
    "       'nom_pga', 'winner_pga', 'nom_bafta', 'winner_bafta', 'nom_dga', 'winner_dga',\n",
    "        'nom_sag', 'winner_sag', 'nom_cannes', 'winner_cannes','Nominations']\n",
    "\n",
    "nominees = ['Ford v Ferrari', 'The Irishman', 'Jojo Rabbit', 'Joker', 'Little Women', 'Marriage Story', '1917', 'Once Upon a Time in Hollywood', 'Parasite']"
   ]
  },
  {
   "cell_type": "code",
   "execution_count": 5,
   "metadata": {},
   "outputs": [
    {
     "name": "stdout",
     "output_type": "stream",
     "text": [
      "['Ford v Ferrari', 'The Irishman', 'Jojo Rabbit', 'Joker (2019 film)', 'Little Women (2019 film)', 'Marriage Story', '1917 (2019 film)', 'Once Upon a Time in Hollywood', 'Parasite (2019 film)']\n"
     ]
    }
   ],
   "source": [
    "print(list(test_2019.film))"
   ]
  },
  {
   "cell_type": "markdown",
   "metadata": {},
   "source": [
    "# Simulating a Voter using a Decision Tree\n",
    "Each 'Voter' will take a Decisions Tree trained on a smaller part of the data to pick that voter's rankings of the Best Picture Nominees"
   ]
  },
  {
   "cell_type": "code",
   "execution_count": 6,
   "metadata": {},
   "outputs": [],
   "source": [
    "# The model I am using to predict per voter is a Decison Tree\n",
    "voter1 = DecisionTreeClassifier(splitter='random',\n",
    "                                max_depth=3,# Low depth allows for some randomness\n",
    "                                min_samples_leaf=3,\n",
    "                                random_state = 92)"
   ]
  },
  {
   "cell_type": "markdown",
   "metadata": {},
   "source": [
    "Each DecisionTree in our Preferential Balloting Random Forest needs to produce ranked ballot rather that a classificaiton per film. The difference in the outputs of a tree froma Traditiona Random Forest and a tree from this Preferential Balloting Random Forest can be seen below:"
   ]
  },
  {
   "cell_type": "markdown",
   "metadata": {},
   "source": [
    "![title](pb_rf_tree.png)"
   ]
  },
  {
   "cell_type": "code",
   "execution_count": 7,
   "metadata": {},
   "outputs": [],
   "source": [
    "def simulate_a_vote(model, train_df, to_predict_df, full_predictors):\n",
    "    \"\"\"\n",
    "    This function creates, trains, and predicts with a DecisionTree to simulate an Academy voter.\n",
    "    Each tree only sees a part of the data and gets Noise to decorrelate them from each other.\n",
    "    The prediction is then ranked to create our ballot for Preferential Balloting\n",
    "    \"\"\"\n",
    "    \n",
    "    train = train_df.copy()\n",
    "    test = to_predict_df.copy()\n",
    "    \n",
    "    # A noise column, randomly generated each time represents a voter's bias\n",
    "    train.loc[:,'Noise'] = np.random.rand(train_df.shape[0])\n",
    "    test.loc[:,'Noise'] = np.random.rand(to_predict_df.shape[0])\n",
    "\n",
    "    # Looking at a random amount of awards shows (similar to bootstrapping)\n",
    "    # This reflects a voter's attention to the season\n",
    "    # num_features is how many of the features they care about\n",
    "    num_features = np.random.choice(int(len(full_predictors)/1.7))\n",
    "    voter_features = list(np.random.choice(full_predictors, num_features)) + ['Noise']\n",
    "\n",
    "    x = np.array(train[voter_features])\n",
    "    y = np.array(train['Oscar_win'])\n",
    "    \n",
    "    model.fit(x,y)\n",
    "    \n",
    "    # ProbA of the voter will represent the ranked votes\n",
    "    ballot_clean = model.predict_proba(np.array(test[voter_features]))[:,1]\n",
    "    # Add small random values to break up ties\n",
    "    ballot = ballot_clean + np.random.rand(len(ballot_clean))/10000\n",
    "    \n",
    "    # Use np.argsort() to rank the order of the probA\n",
    "    # The Academy uses ranked votes calculate winner\n",
    "    temp = ballot.argsort()\n",
    "    ranks = np.empty_like(temp)\n",
    "    ranks[temp] = np.arange(len(ballot))\n",
    "    ranks = np.abs(ranks - len(ballot))\n",
    "    return ranks"
   ]
  },
  {
   "cell_type": "markdown",
   "metadata": {},
   "source": [
    "vote = simulate_a_vote(voter1, train, test_2019, full_predictors)\n",
    "print(\"This voter's ballot looks like:\",vote)\n",
    "position = np.argmin(vote)\n",
    "print(f\"This means their first choice is the {position + 1}th film in our df: {nominees[position]}\")"
   ]
  },
  {
   "cell_type": "markdown",
   "metadata": {},
   "source": [
    "# Simulating the Entire Academy\n",
    "By 'casting a vote' many times, we can get the ballot from the entire academy"
   ]
  },
  {
   "cell_type": "code",
   "execution_count": 8,
   "metadata": {},
   "outputs": [],
   "source": [
    "def simulate_voting_body(num_voters, model, train_df, to_predict_df, full_predictors):\n",
    "    \"\"\"\n",
    "    Runs simulate_a_vote and collects ballots from an academy of num_voters size\n",
    "    \"\"\"\n",
    "    collected_ballots = np.zeros((num_voters, to_predict_df.shape[0]))\n",
    "    for i in range(num_voters):\n",
    "        collected_ballots[i,:] = simulate_a_vote(model, train_df, to_predict_df, full_predictors)\n",
    "    return collected_ballots"
   ]
  },
  {
   "cell_type": "code",
   "execution_count": 9,
   "metadata": {},
   "outputs": [
    {
     "name": "stdout",
     "output_type": "stream",
     "text": [
      "Here is an example of a 5-person Academy:\n",
      "[[1. 6. 7. 4. 2. 5. 3. 8. 9.]\n",
      " [4. 2. 3. 6. 9. 8. 1. 5. 7.]\n",
      " [4. 5. 6. 3. 2. 9. 1. 7. 8.]\n",
      " [3. 6. 2. 7. 9. 5. 4. 1. 8.]\n",
      " [2. 3. 4. 8. 5. 6. 1. 7. 9.]]\n"
     ]
    }
   ],
   "source": [
    "n = 5\n",
    "print(f'Here is an example of a {n}-person Academy:')\n",
    "print(simulate_voting_body(n, voter1, train, test_2019, full_predictors))"
   ]
  },
  {
   "cell_type": "code",
   "execution_count": 10,
   "metadata": {},
   "outputs": [],
   "source": [
    "def tally_votes(voting_body, list_of_nominees):\n",
    "    # List of nominees must be in the same order as the vote index\n",
    "    firsts = np.where(voting_body==1,1,0)\n",
    "    tally = np.sum(firsts, axis = 0)\n",
    "    tallied_votes_df = pd.DataFrame(tally, columns=['Votes']).T\n",
    "    tallied_votes_df.columns = list_of_nominees\n",
    "    return tallied_votes_df.T.sort_values('Votes', ascending = False)"
   ]
  },
  {
   "cell_type": "code",
   "execution_count": 11,
   "metadata": {},
   "outputs": [
    {
     "name": "stdout",
     "output_type": "stream",
     "text": [
      "Overall, this 1000-person academy's top picks look like this:\n"
     ]
    }
   ],
   "source": [
    "n = 1000\n",
    "this_academy = simulate_voting_body(n, voter1, train, test_2019, full_predictors)\n",
    "print(f\"Overall, this {n}-person academy's top picks look like this:\")\n",
    "plot_df1 = tally_votes(this_academy, nominees)"
   ]
  },
  {
   "cell_type": "markdown",
   "metadata": {},
   "source": [
    "# Tiered Voting Changes\n",
    "We start elimnating the least voted for film from the ballots and re-ranking the films"
   ]
  },
  {
   "cell_type": "code",
   "execution_count": 12,
   "metadata": {},
   "outputs": [],
   "source": [
    "def remove_least(voting_body, list_of_nominees):\n",
    "    \"\"\"\n",
    "    A function used for the elimination step of Preferential Balloting\n",
    "    This function determines which film has the least #1 rankings and removes it\n",
    "    \"\"\"\n",
    "    \n",
    "    # List of nominees must be in the same order as the vote index\n",
    "    firsts = np.where(voting_body==1,1,0)\n",
    "    tally = np.sum(firsts, axis = 0)\n",
    "    least_votes_index = np.argmin(tally)\n",
    "    \n",
    "    # Removes the least voted entry (from # 1 to 0)\n",
    "    voting_body = np.delete(voting_body, least_votes_index, axis = 1)\n",
    "    list_of_nominees.remove(list_of_nominees[least_votes_index])\n",
    "    return voting_body, list_of_nominees"
   ]
  },
  {
   "cell_type": "code",
   "execution_count": 13,
   "metadata": {},
   "outputs": [],
   "source": [
    "def re_rank_ballots(voting_body):\n",
    "    \"\"\"\n",
    "    Another function used for the elimination step of Preferential Balloting\n",
    "    Takes a voting body (numpy array)\n",
    "    Makes sure each row goes from 1 to shape[1]\n",
    "    \"\"\"\n",
    "    re_ranked = np.zeros(voting_body.shape)\n",
    "    for i in range(voting_body.shape[0]):\n",
    "        temp = voting_body[i,:].argsort()\n",
    "        ranks = np.empty_like(temp)\n",
    "        ranks[temp] = np.arange(len(voting_body[i,:]))\n",
    "        re_ranked[i,:] = ranks + 1\n",
    "    return re_ranked"
   ]
  },
  {
   "cell_type": "code",
   "execution_count": 14,
   "metadata": {},
   "outputs": [],
   "source": [
    "def run_one_round_of_eliminations(voting_body, list_of_nominees):\n",
    "    \"\"\"\n",
    "    A function which runs one elimination step of Preferential Balloting \n",
    "    Takes in a Voting Body and List of Nominess and returns them,\n",
    "    but the film with the least #1 votes has bene removed\n",
    "    \"\"\"    \n",
    "    voting_body, list_of_nominees = remove_least(voting_body, list_of_nominees)\n",
    "    voting_body = re_rank_ballots(voting_body)\n",
    "    return voting_body, list_of_nominees"
   ]
  },
  {
   "cell_type": "code",
   "execution_count": 15,
   "metadata": {},
   "outputs": [
    {
     "name": "stdout",
     "output_type": "stream",
     "text": [
      "8 films remaining\n",
      "\n",
      "New Standings:\n"
     ]
    },
    {
     "data": {
      "text/html": [
       "<div>\n",
       "<style scoped>\n",
       "    .dataframe tbody tr th:only-of-type {\n",
       "        vertical-align: middle;\n",
       "    }\n",
       "\n",
       "    .dataframe tbody tr th {\n",
       "        vertical-align: top;\n",
       "    }\n",
       "\n",
       "    .dataframe thead th {\n",
       "        text-align: right;\n",
       "    }\n",
       "</style>\n",
       "<table border=\"1\" class=\"dataframe\">\n",
       "  <thead>\n",
       "    <tr style=\"text-align: right;\">\n",
       "      <th></th>\n",
       "      <th>Votes</th>\n",
       "    </tr>\n",
       "  </thead>\n",
       "  <tbody>\n",
       "    <tr>\n",
       "      <th>1917</th>\n",
       "      <td>440</td>\n",
       "    </tr>\n",
       "    <tr>\n",
       "      <th>Parasite</th>\n",
       "      <td>179</td>\n",
       "    </tr>\n",
       "    <tr>\n",
       "      <th>Once Upon a Time in Hollywood</th>\n",
       "      <td>129</td>\n",
       "    </tr>\n",
       "    <tr>\n",
       "      <th>The Irishman</th>\n",
       "      <td>91</td>\n",
       "    </tr>\n",
       "    <tr>\n",
       "      <th>Jojo Rabbit</th>\n",
       "      <td>52</td>\n",
       "    </tr>\n",
       "    <tr>\n",
       "      <th>Joker</th>\n",
       "      <td>43</td>\n",
       "    </tr>\n",
       "    <tr>\n",
       "      <th>Marriage Story</th>\n",
       "      <td>38</td>\n",
       "    </tr>\n",
       "    <tr>\n",
       "      <th>Ford v Ferrari</th>\n",
       "      <td>28</td>\n",
       "    </tr>\n",
       "  </tbody>\n",
       "</table>\n",
       "</div>"
      ],
      "text/plain": [
       "                               Votes\n",
       "1917                             440\n",
       "Parasite                         179\n",
       "Once Upon a Time in Hollywood    129\n",
       "The Irishman                      91\n",
       "Jojo Rabbit                       52\n",
       "Joker                             43\n",
       "Marriage Story                    38\n",
       "Ford v Ferrari                    28"
      ]
     },
     "execution_count": 15,
     "metadata": {},
     "output_type": "execute_result"
    }
   ],
   "source": [
    "new_votes, new_noms = run_one_round_of_eliminations(this_academy, nominees)\n",
    "\n",
    "print(len(new_noms), 'films remaining')\n",
    "print('\\nNew Standings:')\n",
    "tally_votes(new_votes, new_noms)"
   ]
  },
  {
   "cell_type": "markdown",
   "metadata": {},
   "source": [
    "## Re-Rank until one film has more than 50% of the vote\n",
    "This is where the real simulation comes in.\n",
    "We put together all the previous functions to simulate the result of the 2019 Best Picture voting"
   ]
  },
  {
   "cell_type": "code",
   "execution_count": 16,
   "metadata": {},
   "outputs": [],
   "source": [
    "def run_preferential_voting(voting_body,list_of_nominees, show_steps = False):\n",
    "    \"\"\"\n",
    "    Runs the process of Preferential Balloting on a voting_body(matrix)\n",
    "    Terminates when one film has greater than 50% of the #1 votes\n",
    "    \"\"\"   \n",
    "    top_pick_percent = tally_votes(voting_body,list_of_nominees).max()[0]/tally_votes(voting_body,list_of_nominees).sum()[0]\n",
    "    while top_pick_percent < 0.5:\n",
    "        voting_body,list_of_nominees = run_one_round_of_eliminations(voting_body, list_of_nominees)\n",
    "        top_pick_percent = tally_votes(voting_body,list_of_nominees).max()[0]/tally_votes(voting_body,list_of_nominees).sum()[0]    \n",
    "        if show_steps:\n",
    "            print(tally_votes(voting_body, list_of_nominees),'\\n')\n",
    "    return voting_body, list_of_nominees"
   ]
  },
  {
   "cell_type": "markdown",
   "metadata": {},
   "source": [
    "# Lets Simulate the Oscars!"
   ]
  },
  {
   "cell_type": "code",
   "execution_count": 17,
   "metadata": {},
   "outputs": [
    {
     "name": "stdout",
     "output_type": "stream",
     "text": [
      "training set contains: 154 movies\n",
      "Prediciting on: 9 movies\n",
      "\n",
      "Simulating an Academy with 7000 random voters.....\n",
      "\n",
      "Initial Rankings:\n",
      "----------------------------------------\n",
      "                               Votes\n",
      "1917                            3055\n",
      "Parasite                        1303\n",
      "Once Upon a Time in Hollywood    782\n",
      "The Irishman                     672\n",
      "Joker                            351\n",
      "Jojo Rabbit                      308\n",
      "Marriage Story                   196\n",
      "Ford v Ferrari                   167\n",
      "Little Women                     166 \n",
      "\n",
      "Now we start eliminating films untill there one has more than 50% of the top picks:\n",
      "----------------------------------------\n",
      "                               Votes\n",
      "1917                            3074\n",
      "Parasite                        1323\n",
      "Once Upon a Time in Hollywood    793\n",
      "The Irishman                     699\n",
      "Joker                            375\n",
      "Jojo Rabbit                      325\n",
      "Marriage Story                   218\n",
      "Ford v Ferrari                   193 \n",
      "\n",
      "                               Votes\n",
      "1917                            3108\n",
      "Parasite                        1342\n",
      "Once Upon a Time in Hollywood    819\n",
      "The Irishman                     734\n",
      "Joker                            406\n",
      "Jojo Rabbit                      348\n",
      "Marriage Story                   243 \n",
      "\n",
      "                               Votes\n",
      "1917                            3148\n",
      "Parasite                        1383\n",
      "Once Upon a Time in Hollywood    847\n",
      "The Irishman                     778\n",
      "Joker                            468\n",
      "Jojo Rabbit                      376 \n",
      "\n",
      "                               Votes\n",
      "1917                            3196\n",
      "Parasite                        1479\n",
      "Once Upon a Time in Hollywood    935\n",
      "The Irishman                     879\n",
      "Joker                            511 \n",
      "\n",
      "                               Votes\n",
      "1917                            3363\n",
      "Parasite                        1561\n",
      "Once Upon a Time in Hollywood   1059\n",
      "The Irishman                    1017 \n",
      "\n",
      "                               Votes\n",
      "1917                            3684\n",
      "Parasite                        1867\n",
      "Once Upon a Time in Hollywood   1449 \n",
      "\n"
     ]
    }
   ],
   "source": [
    "min_year = 1995\n",
    "\n",
    "# Training Set - Excluding 2019\n",
    "train = full_table.loc[((full_table['year'] < 2019) & (full_table['year'] > min_year))]\n",
    "test_2019 = full_table.loc[(full_table['year'] == 2019)]\n",
    "\n",
    "print('training set contains:', train.shape[0], 'movies')\n",
    "print('Prediciting on:', test_2019.shape[0], 'movies')\n",
    "\n",
    "# Identify features to predict on\n",
    "full_predictors = ['year','nom_gg_drama', 'winner_gg_drama', 'nom_gg_comedy', 'winner_gg_comedy',\n",
    "       'nom_pga', 'winner_pga', 'nom_bafta', 'winner_bafta', 'nom_dga', 'winner_dga',\n",
    "        'nom_sag', 'winner_sag', 'nom_cannes', 'winner_cannes','Nominations']\n",
    "\n",
    "nominees = ['Ford v Ferrari', 'The Irishman', 'Jojo Rabbit', 'Joker', 'Little Women', 'Marriage Story', '1917', 'Once Upon a Time in Hollywood', 'Parasite']\n",
    "\n",
    "# PicK the model we want for each random voter\n",
    "voter_model = DecisionTreeClassifier(splitter='random',\n",
    "                                max_depth=3,\n",
    "                                min_samples_leaf=3,\n",
    "                                random_state = 92)\n",
    "\n",
    "num_voters_academy = 7000\n",
    "print(f'\\nSimulating an Academy with {num_voters_academy} random voters.....')\n",
    "academy_sim = simulate_voting_body(num_voters=num_voters_academy, model = voter_model, train_df = train, to_predict_df = test_2019, full_predictors=full_predictors)\n",
    "\n",
    "print('\\nInitial Rankings:\\n----------------------------------------')\n",
    "print(tally_votes(academy_sim, nominees),'\\n')\n",
    "print(\"Now we start eliminating films untill there one has more than 50% of the top picks:\\n----------------------------------------\")\n",
    "final_ballot, final_films = run_preferential_voting(academy_sim, nominees, True)"
   ]
  },
  {
   "cell_type": "markdown",
   "metadata": {},
   "source": [
    "# And the Oscar goes to..."
   ]
  },
  {
   "cell_type": "code",
   "execution_count": 18,
   "metadata": {},
   "outputs": [
    {
     "data": {
      "text/html": [
       "<div>\n",
       "<style scoped>\n",
       "    .dataframe tbody tr th:only-of-type {\n",
       "        vertical-align: middle;\n",
       "    }\n",
       "\n",
       "    .dataframe tbody tr th {\n",
       "        vertical-align: top;\n",
       "    }\n",
       "\n",
       "    .dataframe thead th {\n",
       "        text-align: right;\n",
       "    }\n",
       "</style>\n",
       "<table border=\"1\" class=\"dataframe\">\n",
       "  <thead>\n",
       "    <tr style=\"text-align: right;\">\n",
       "      <th></th>\n",
       "      <th>Votes</th>\n",
       "    </tr>\n",
       "  </thead>\n",
       "  <tbody>\n",
       "    <tr>\n",
       "      <th>1917</th>\n",
       "      <td>3684</td>\n",
       "    </tr>\n",
       "    <tr>\n",
       "      <th>Parasite</th>\n",
       "      <td>1867</td>\n",
       "    </tr>\n",
       "    <tr>\n",
       "      <th>Once Upon a Time in Hollywood</th>\n",
       "      <td>1449</td>\n",
       "    </tr>\n",
       "  </tbody>\n",
       "</table>\n",
       "</div>"
      ],
      "text/plain": [
       "                               Votes\n",
       "1917                            3684\n",
       "Parasite                        1867\n",
       "Once Upon a Time in Hollywood   1449"
      ]
     },
     "execution_count": 18,
     "metadata": {},
     "output_type": "execute_result"
    }
   ],
   "source": [
    "tally_votes(final_ballot, final_films)"
   ]
  },
  {
   "cell_type": "code",
   "execution_count": 19,
   "metadata": {},
   "outputs": [
    {
     "name": "stdout",
     "output_type": "stream",
     "text": [
      "And the Oscar goes to...\n",
      "🎉🏆1917🏆🎉\n"
     ]
    }
   ],
   "source": [
    "bp_winner = np.array(tally_votes(final_ballot, final_films).reset_index())[0][0].split('(')[0].strip()\n",
    "print(f'And the Oscar goes to...\\n🎉🏆{bp_winner}🏆🎉')"
   ]
  },
  {
   "cell_type": "markdown",
   "metadata": {},
   "source": [
    "This random forest set-up simulated the academy and changed the normally vote counting process of the RF to use preferential balloting. I check the result of this prediciton process against a number of models in the [AutoML Machine Learning Notebook](https://github.com/njparker1993/oscars_predictions/blob/master/machine_learning_auto_ml.ipynb)"
   ]
  }
 ],
 "metadata": {
  "kernelspec": {
   "display_name": "Python 3",
   "language": "python",
   "name": "python3"
  },
  "language_info": {
   "codemirror_mode": {
    "name": "ipython",
    "version": 3
   },
   "file_extension": ".py",
   "mimetype": "text/x-python",
   "name": "python",
   "nbconvert_exporter": "python",
   "pygments_lexer": "ipython3",
   "version": "3.7.3"
  }
 },
 "nbformat": 4,
 "nbformat_minor": 2
}
