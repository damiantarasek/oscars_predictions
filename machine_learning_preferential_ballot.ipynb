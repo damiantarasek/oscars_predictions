{
 "cells": [
  {
   "cell_type": "code",
   "execution_count": 1,
   "metadata": {},
   "outputs": [],
   "source": [
    "import pandas as pd\n",
    "import numpy as np\n",
    "from sklearn.tree import DecisionTreeClassifier"
   ]
  },
  {
   "cell_type": "code",
   "execution_count": 2,
   "metadata": {},
   "outputs": [
    {
     "data": {
      "text/plain": [
       "array([3, 5, 1, 0, 8, 4, 2, 6, 7])"
      ]
     },
     "execution_count": 2,
     "metadata": {},
     "output_type": "execute_result"
    }
   ],
   "source": [
    "\n",
    "num_nominees = 9\n",
    "\n",
    "np.random.choice(num_nominees, num_nominees, replace = False)"
   ]
  },
  {
   "cell_type": "code",
   "execution_count": 4,
   "metadata": {},
   "outputs": [],
   "source": [
    "full_table = pd.read_csv('./data/processed_results/osc_df')"
   ]
  },
  {
   "cell_type": "markdown",
   "metadata": {},
   "source": [
    "# Setting Up our DataFrame"
   ]
  },
  {
   "cell_type": "code",
   "execution_count": 5,
   "metadata": {},
   "outputs": [
    {
     "name": "stdout",
     "output_type": "stream",
     "text": [
      "training set contains: 154 movies\n",
      "Prediciting on: 9 movies\n"
     ]
    }
   ],
   "source": [
    "min_year = 1995\n",
    "\n",
    "# Training Set - Excluding 2019\n",
    "train = full_table.loc[((full_table['year'] < 2019) & (full_table['year'] > min_year))]\n",
    "test_2019 = full_table.loc[(full_table['year'] == 2019)]\n",
    "\n",
    "print('training set contains:', train.shape[0], 'movies')\n",
    "print('Prediciting on:', test_2019.shape[0], 'movies')"
   ]
  },
  {
   "cell_type": "code",
   "execution_count": 6,
   "metadata": {},
   "outputs": [],
   "source": [
    "# Identify predictors and response\n",
    "\n",
    "full_predictors = ['year','nom_gg_drama', 'winner_gg_drama', 'nom_gg_comedy', 'winner_gg_comedy',\n",
    "       'nom_pga', 'winner_pga', 'nom_bafta', 'winner_bafta', 'nom_dga', 'winner_dga',\n",
    "        'nom_sag', 'winner_sag', 'nom_cannes', 'winner_cannes','Nominations']"
   ]
  },
  {
   "cell_type": "markdown",
   "metadata": {},
   "source": [
    "# Simulating a Voter using a Decision Tree"
   ]
  },
  {
   "cell_type": "code",
   "execution_count": 7,
   "metadata": {},
   "outputs": [],
   "source": [
    "voter1 = DecisionTreeClassifier(splitter='random',\n",
    "                                max_depth=3,\n",
    "                                min_samples_leaf=3,\n",
    "                                random_state = 92)"
   ]
  },
  {
   "cell_type": "code",
   "execution_count": 140,
   "metadata": {},
   "outputs": [],
   "source": [
    "def simulate_a_vote(model, train_df, to_predict_df, full_predictors):\n",
    "    train = train_df.copy()\n",
    "    test = to_predict_df.copy()\n",
    "    \n",
    "    # A noise column, randomly generated each time represents a voter's bias\n",
    "    train.loc[:,'Noise'] = np.random.rand(train_df.shape[0])\n",
    "    test.loc[:,'Noise'] = np.random.rand(to_predict_df.shape[0])\n",
    "\n",
    "    # Looking at a random amount of awards shows (similar to bootstrapping) reflects a voter's attention to the season\n",
    "    #num_features = np.random.choice(len(full_predictors))\n",
    "    num_features = np.random.choice(int(len(full_predictors)/1.7))\n",
    "    voter_features = list(np.random.choice(full_predictors, num_features)) + ['Noise']\n",
    "\n",
    "    x = np.array(train[voter_features])\n",
    "    y = np.array(train['Oscar_win'])\n",
    "    \n",
    "    model.fit(x,y)\n",
    "    # ProbA of the voter will represent the ranked votes\n",
    "    ballot_clean = model.predict_proba(np.array(test[voter_features]))[:,1]\n",
    "    # Add small random values to break up ties\n",
    "    ballot = ballot_clean + np.random.rand(len(ballot_clean))/10000\n",
    "    \n",
    "    # Use np.argsort() to rank the order of the probA\n",
    "    # The Academy uses ranked votes calculate winner\n",
    "    temp = ballot.argsort()\n",
    "    ranks = np.empty_like(temp)\n",
    "    ranks[temp] = np.arange(len(ballot))\n",
    "    ranks = np.abs(ranks - len(ballot))\n",
    "    return ranks"
   ]
  },
  {
   "cell_type": "code",
   "execution_count": 131,
   "metadata": {},
   "outputs": [
    {
     "name": "stdout",
     "output_type": "stream",
     "text": [
      "This voter's ballot looks like: [4 2 5 6 3 9 8 7 1]\n",
      "This means their first choice is: Parasite (2019 film)\n"
     ]
    }
   ],
   "source": [
    "vote = simulate_a_vote(voter1, train, test_2019, full_predictors)\n",
    "print(\"This voter's ballot looks like:\",vote)\n",
    "print(\"This means their first choice is:\",list(test_2019.film)[np.argmin(vote)])"
   ]
  },
  {
   "cell_type": "markdown",
   "metadata": {},
   "source": [
    "# Simulating the Entire Academy"
   ]
  },
  {
   "cell_type": "code",
   "execution_count": 98,
   "metadata": {},
   "outputs": [],
   "source": [
    "def simulate_voting_body(num_voters, model, train_df, to_predict_df, full_predictors):\n",
    "    collected_ballots = np.zeros((num_voters, to_predict_df.shape[0]))\n",
    "    for i in range(num_voters):\n",
    "        collected_ballots[i,:] = simulate_a_vote(model, train_df, to_predict_df, full_predictors)\n",
    "    return collected_ballots"
   ]
  },
  {
   "cell_type": "code",
   "execution_count": 99,
   "metadata": {},
   "outputs": [
    {
     "data": {
      "text/plain": [
       "array([[5., 8., 2., 4., 6., 7., 1., 3., 9.],\n",
       "       [4., 6., 2., 5., 8., 7., 9., 3., 1.],\n",
       "       [8., 4., 6., 1., 2., 9., 7., 3., 5.],\n",
       "       [3., 4., 8., 6., 7., 5., 1., 9., 2.],\n",
       "       [7., 5., 4., 8., 6., 9., 2., 3., 1.]])"
      ]
     },
     "execution_count": 99,
     "metadata": {},
     "output_type": "execute_result"
    }
   ],
   "source": [
    "simulate_voting_body(5, voter1, train, test_2019, full_predictors)"
   ]
  },
  {
   "cell_type": "code",
   "execution_count": 108,
   "metadata": {},
   "outputs": [],
   "source": [
    "def tally_votes(voting_body, list_of_nominees):\n",
    "    # List of nominees must be in the same order as the vote index\n",
    "    firsts = np.where(voting_body==1,1,0)\n",
    "    tally = np.sum(firsts, axis = 0)\n",
    "    tallied_votes_df = pd.DataFrame(tally, columns=['Votes']).T\n",
    "    tallied_votes_df.columns = list_of_nominees\n",
    "    return tallied_votes_df.T.sort_values('Votes', ascending = False)"
   ]
  },
  {
   "cell_type": "code",
   "execution_count": 134,
   "metadata": {},
   "outputs": [
    {
     "data": {
      "text/html": [
       "<div>\n",
       "<style scoped>\n",
       "    .dataframe tbody tr th:only-of-type {\n",
       "        vertical-align: middle;\n",
       "    }\n",
       "\n",
       "    .dataframe tbody tr th {\n",
       "        vertical-align: top;\n",
       "    }\n",
       "\n",
       "    .dataframe thead th {\n",
       "        text-align: right;\n",
       "    }\n",
       "</style>\n",
       "<table border=\"1\" class=\"dataframe\">\n",
       "  <thead>\n",
       "    <tr style=\"text-align: right;\">\n",
       "      <th></th>\n",
       "      <th>Votes</th>\n",
       "    </tr>\n",
       "  </thead>\n",
       "  <tbody>\n",
       "    <tr>\n",
       "      <th>1917 (2019 film)</th>\n",
       "      <td>390</td>\n",
       "    </tr>\n",
       "    <tr>\n",
       "      <th>Parasite (2019 film)</th>\n",
       "      <td>209</td>\n",
       "    </tr>\n",
       "    <tr>\n",
       "      <th>Once Upon a Time in Hollywood</th>\n",
       "      <td>136</td>\n",
       "    </tr>\n",
       "    <tr>\n",
       "      <th>The Irishman</th>\n",
       "      <td>89</td>\n",
       "    </tr>\n",
       "    <tr>\n",
       "      <th>Joker (2019 film)</th>\n",
       "      <td>49</td>\n",
       "    </tr>\n",
       "    <tr>\n",
       "      <th>Jojo Rabbit</th>\n",
       "      <td>43</td>\n",
       "    </tr>\n",
       "    <tr>\n",
       "      <th>Little Women (2019 film)</th>\n",
       "      <td>32</td>\n",
       "    </tr>\n",
       "    <tr>\n",
       "      <th>Ford v Ferrari</th>\n",
       "      <td>27</td>\n",
       "    </tr>\n",
       "    <tr>\n",
       "      <th>Marriage Story</th>\n",
       "      <td>25</td>\n",
       "    </tr>\n",
       "  </tbody>\n",
       "</table>\n",
       "</div>"
      ],
      "text/plain": [
       "                               Votes\n",
       "1917 (2019 film)                 390\n",
       "Parasite (2019 film)             209\n",
       "Once Upon a Time in Hollywood    136\n",
       "The Irishman                      89\n",
       "Joker (2019 film)                 49\n",
       "Jojo Rabbit                       43\n",
       "Little Women (2019 film)          32\n",
       "Ford v Ferrari                    27\n",
       "Marriage Story                    25"
      ]
     },
     "execution_count": 134,
     "metadata": {},
     "output_type": "execute_result"
    }
   ],
   "source": [
    "this_academy = simulate_voting_body(1000, voter1, train, test_2019, full_predictors)\n",
    "tally_votes(this_academy, list(test_2019.film))"
   ]
  },
  {
   "cell_type": "markdown",
   "metadata": {},
   "source": [
    "# Tiered Voting Changes\n",
    "We start elimnating the least voted for film from the ballots and re_ranking the films"
   ]
  },
  {
   "cell_type": "code",
   "execution_count": 110,
   "metadata": {},
   "outputs": [],
   "source": [
    "def remove_least(voting_body, list_of_nominees):\n",
    "    # List of nominees must be in the same order as the vote index\n",
    "    firsts = np.where(voting_body==1,1,0)\n",
    "    tally = np.sum(firsts, axis = 0)\n",
    "    least_votes_index = np.argmin(tally)\n",
    "    # Removes the least voted entry (from # 1 to 0)\n",
    "    voting_body = np.delete(voting_body, least_votes_index, axis = 1)\n",
    "    list_of_nominees.remove(list_of_nominees[least_votes_index])\n",
    "    return voting_body, list_of_nominees"
   ]
  },
  {
   "cell_type": "code",
   "execution_count": 111,
   "metadata": {},
   "outputs": [],
   "source": [
    "def re_rank_ballots(voting_body):\n",
    "    \"\"\"\n",
    "    Takes a voting body (numpy array)\n",
    "    Makes sure each row goes from 1 to shape[1]\n",
    "    \"\"\"\n",
    "    #array = test_row\n",
    "    re_ranked = np.zeros(voting_body.shape)\n",
    "    for i in range(voting_body.shape[0]):\n",
    "        temp = voting_body[i,:].argsort()\n",
    "        ranks = np.empty_like(temp)\n",
    "        #print(ranks)\n",
    "        ranks[temp] = np.arange(len(voting_body[i,:]))\n",
    "        re_ranked[i,:] = ranks + 1\n",
    "    return re_ranked"
   ]
  },
  {
   "cell_type": "code",
   "execution_count": 106,
   "metadata": {},
   "outputs": [],
   "source": [
    "def run_one_round_of_eliminations(voting_body, list_of_nominees):\n",
    "    voting_body, list_of_nominees = remove_least(voting_body, list_of_nominees)\n",
    "    voting_body = re_rank_ballots(voting_body)\n",
    "    return voting_body, list_of_nominees"
   ]
  },
  {
   "cell_type": "code",
   "execution_count": 139,
   "metadata": {},
   "outputs": [
    {
     "name": "stdout",
     "output_type": "stream",
     "text": [
      "8 films remaining\n",
      "\n",
      "New Standings:\n"
     ]
    },
    {
     "data": {
      "text/html": [
       "<div>\n",
       "<style scoped>\n",
       "    .dataframe tbody tr th:only-of-type {\n",
       "        vertical-align: middle;\n",
       "    }\n",
       "\n",
       "    .dataframe tbody tr th {\n",
       "        vertical-align: top;\n",
       "    }\n",
       "\n",
       "    .dataframe thead th {\n",
       "        text-align: right;\n",
       "    }\n",
       "</style>\n",
       "<table border=\"1\" class=\"dataframe\">\n",
       "  <thead>\n",
       "    <tr style=\"text-align: right;\">\n",
       "      <th></th>\n",
       "      <th>Votes</th>\n",
       "    </tr>\n",
       "  </thead>\n",
       "  <tbody>\n",
       "    <tr>\n",
       "      <th>1917 (2019 film)</th>\n",
       "      <td>392</td>\n",
       "    </tr>\n",
       "    <tr>\n",
       "      <th>Parasite (2019 film)</th>\n",
       "      <td>212</td>\n",
       "    </tr>\n",
       "    <tr>\n",
       "      <th>Once Upon a Time in Hollywood</th>\n",
       "      <td>138</td>\n",
       "    </tr>\n",
       "    <tr>\n",
       "      <th>The Irishman</th>\n",
       "      <td>97</td>\n",
       "    </tr>\n",
       "    <tr>\n",
       "      <th>Joker (2019 film)</th>\n",
       "      <td>52</td>\n",
       "    </tr>\n",
       "    <tr>\n",
       "      <th>Jojo Rabbit</th>\n",
       "      <td>45</td>\n",
       "    </tr>\n",
       "    <tr>\n",
       "      <th>Little Women (2019 film)</th>\n",
       "      <td>33</td>\n",
       "    </tr>\n",
       "    <tr>\n",
       "      <th>Ford v Ferrari</th>\n",
       "      <td>31</td>\n",
       "    </tr>\n",
       "  </tbody>\n",
       "</table>\n",
       "</div>"
      ],
      "text/plain": [
       "                               Votes\n",
       "1917 (2019 film)                 392\n",
       "Parasite (2019 film)             212\n",
       "Once Upon a Time in Hollywood    138\n",
       "The Irishman                      97\n",
       "Joker (2019 film)                 52\n",
       "Jojo Rabbit                       45\n",
       "Little Women (2019 film)          33\n",
       "Ford v Ferrari                    31"
      ]
     },
     "execution_count": 139,
     "metadata": {},
     "output_type": "execute_result"
    }
   ],
   "source": [
    "new_votes, new_noms = run_one_round_of_eliminations(this_academy, list(test_2019.film))\n",
    "\n",
    "print(len(new_noms), 'films remaining')\n",
    "print('\\nNew Standings:')\n",
    "tally_votes(new_votes, new_noms)"
   ]
  },
  {
   "cell_type": "markdown",
   "metadata": {},
   "source": [
    "## Currently have to figure out how to re-rank every ballot"
   ]
  },
  {
   "cell_type": "code",
   "execution_count": 168,
   "metadata": {},
   "outputs": [],
   "source": [
    "def run_preferential_voting(voting_body,list_of_nominees, show_steps = False):\n",
    "    top_pick_percent = tally_votes(voting_body,list_of_nominees).max()[0]/tally_votes(voting_body,list_of_nominees).sum()[0]\n",
    "    while top_pick_percent < 0.5:\n",
    "        voting_body,list_of_nominees = run_one_round_of_eliminations(voting_body, list_of_nominees)\n",
    "        top_pick_percent = tally_votes(voting_body,list_of_nominees).max()[0]/tally_votes(voting_body,list_of_nominees).sum()[0]    \n",
    "        if show_steps:\n",
    "            print(tally_votes(voting_body, list_of_nominees),'\\n')\n",
    "    return voting_body, list_of_nominees"
   ]
  },
  {
   "cell_type": "code",
   "execution_count": 145,
   "metadata": {},
   "outputs": [
    {
     "data": {
      "text/plain": [
       "0.392"
      ]
     },
     "execution_count": 145,
     "metadata": {},
     "output_type": "execute_result"
    }
   ],
   "source": [
    "tally_votes(new_votes, new_noms).max()[0]/tally_votes(new_votes, new_noms).sum()[0]"
   ]
  },
  {
   "cell_type": "code",
   "execution_count": 146,
   "metadata": {},
   "outputs": [
    {
     "name": "stdout",
     "output_type": "stream",
     "text": [
      "                               Votes\n",
      "1917 (2019 film)                 392\n",
      "Parasite (2019 film)             212\n",
      "Once Upon a Time in Hollywood    138\n",
      "The Irishman                      97\n",
      "Joker (2019 film)                 52\n",
      "Jojo Rabbit                       45\n",
      "Little Women (2019 film)          33\n",
      "Ford v Ferrari                    31 \n",
      "\n",
      "                               Votes\n",
      "1917 (2019 film)                 398\n",
      "Parasite (2019 film)             216\n",
      "Once Upon a Time in Hollywood    141\n",
      "The Irishman                     100\n",
      "Joker (2019 film)                 56\n",
      "Jojo Rabbit                       50\n",
      "Little Women (2019 film)          39 \n",
      "\n",
      "                               Votes\n",
      "1917 (2019 film)                 400\n",
      "Parasite (2019 film)             225\n",
      "Once Upon a Time in Hollywood    149\n",
      "The Irishman                     105\n",
      "Joker (2019 film)                 66\n",
      "Jojo Rabbit                       55 \n",
      "\n",
      "                               Votes\n",
      "1917 (2019 film)                 415\n",
      "Parasite (2019 film)             234\n",
      "Once Upon a Time in Hollywood    164\n",
      "The Irishman                     113\n",
      "Joker (2019 film)                 74 \n",
      "\n",
      "                               Votes\n",
      "1917 (2019 film)                 437\n",
      "Parasite (2019 film)             245\n",
      "Once Upon a Time in Hollywood    187\n",
      "The Irishman                     131 \n",
      "\n",
      "                               Votes\n",
      "1917 (2019 film)                 482\n",
      "Parasite (2019 film)             281\n",
      "Once Upon a Time in Hollywood    237 \n",
      "\n",
      "                      Votes\n",
      "1917 (2019 film)        591\n",
      "Parasite (2019 film)    409 \n",
      "\n"
     ]
    },
    {
     "data": {
      "text/html": [
       "<div>\n",
       "<style scoped>\n",
       "    .dataframe tbody tr th:only-of-type {\n",
       "        vertical-align: middle;\n",
       "    }\n",
       "\n",
       "    .dataframe tbody tr th {\n",
       "        vertical-align: top;\n",
       "    }\n",
       "\n",
       "    .dataframe thead th {\n",
       "        text-align: right;\n",
       "    }\n",
       "</style>\n",
       "<table border=\"1\" class=\"dataframe\">\n",
       "  <thead>\n",
       "    <tr style=\"text-align: right;\">\n",
       "      <th></th>\n",
       "      <th>Votes</th>\n",
       "    </tr>\n",
       "  </thead>\n",
       "  <tbody>\n",
       "    <tr>\n",
       "      <th>1917 (2019 film)</th>\n",
       "      <td>591</td>\n",
       "    </tr>\n",
       "    <tr>\n",
       "      <th>Parasite (2019 film)</th>\n",
       "      <td>409</td>\n",
       "    </tr>\n",
       "  </tbody>\n",
       "</table>\n",
       "</div>"
      ],
      "text/plain": [
       "                      Votes\n",
       "1917 (2019 film)        591\n",
       "Parasite (2019 film)    409"
      ]
     },
     "execution_count": 146,
     "metadata": {},
     "output_type": "execute_result"
    }
   ],
   "source": [
    "final_ballot, final_films = run_preferential_voting(this_academy, list(test_2019.film),True)\n",
    "tally_votes(final_ballot, final_films)"
   ]
  },
  {
   "cell_type": "markdown",
   "metadata": {},
   "source": [
    "# Lets Simulate the Oscars!"
   ]
  },
  {
   "cell_type": "code",
   "execution_count": 170,
   "metadata": {},
   "outputs": [
    {
     "name": "stdout",
     "output_type": "stream",
     "text": [
      "training set contains: 154 movies\n",
      "Prediciting on: 9 movies\n"
     ]
    }
   ],
   "source": [
    "min_year = 1995\n",
    "\n",
    "# Training Set - Excluding 2019\n",
    "train = full_table.loc[((full_table['year'] < 2019) & (full_table['year'] > min_year))]\n",
    "test_2019 = full_table.loc[(full_table['year'] == 2019)]\n",
    "\n",
    "print('training set contains:', train.shape[0], 'movies')\n",
    "print('Prediciting on:', test_2019.shape[0], 'movies')\n",
    "\n",
    "# Identify predictors and response\n",
    "\n",
    "full_predictors = ['year','nom_gg_drama', 'winner_gg_drama', 'nom_gg_comedy', 'winner_gg_comedy',\n",
    "       'nom_pga', 'winner_pga', 'nom_bafta', 'winner_bafta', 'nom_dga', 'winner_dga',\n",
    "        'nom_sag', 'winner_sag', 'nom_cannes', 'winner_cannes','Nominations']\n",
    "\n",
    "voter2 = DecisionTreeClassifier(splitter='random',\n",
    "                                max_depth=3,\n",
    "                                min_samples_leaf=3,\n",
    "                                random_state = 92)\n",
    "\n",
    "academy_sim = simulate_voting_body(num_voters=7000, model = voter2, train_df = train, to_predict_df = test_2019, full_predictors=full_predictors)"
   ]
  },
  {
   "cell_type": "code",
   "execution_count": 171,
   "metadata": {},
   "outputs": [
    {
     "name": "stdout",
     "output_type": "stream",
     "text": [
      "Initial Rankings:\n",
      "                               Votes\n",
      "1917 (2019 film)                3051\n",
      "Parasite (2019 film)            1409\n",
      "Once Upon a Time in Hollywood    772\n",
      "The Irishman                     577\n",
      "Joker (2019 film)                377\n",
      "Jojo Rabbit                      304\n",
      "Marriage Story                   191\n",
      "Little Women (2019 film)         164\n",
      "Ford v Ferrari                   155 \n",
      "\n",
      "                               Votes\n",
      "1917 (2019 film)                3068\n",
      "Parasite (2019 film)            1426\n",
      "Once Upon a Time in Hollywood    793\n",
      "The Irishman                     599\n",
      "Joker (2019 film)                397\n",
      "Jojo Rabbit                      321\n",
      "Marriage Story                   214\n",
      "Little Women (2019 film)         182 \n",
      "\n",
      "                               Votes\n",
      "1917 (2019 film)                3090\n",
      "Parasite (2019 film)            1449\n",
      "Once Upon a Time in Hollywood    819\n",
      "The Irishman                     626\n",
      "Joker (2019 film)                431\n",
      "Jojo Rabbit                      349\n",
      "Marriage Story                   236 \n",
      "\n",
      "                               Votes\n",
      "1917 (2019 film)                3133\n",
      "Parasite (2019 film)            1480\n",
      "Once Upon a Time in Hollywood    848\n",
      "The Irishman                     672\n",
      "Joker (2019 film)                484\n",
      "Jojo Rabbit                      383 \n",
      "\n",
      "                               Votes\n",
      "1917 (2019 film)                3187\n",
      "Parasite (2019 film)            1565\n",
      "Once Upon a Time in Hollywood    953\n",
      "The Irishman                     766\n",
      "Joker (2019 film)                529 \n",
      "\n",
      "                               Votes\n",
      "1917 (2019 film)                3336\n",
      "Parasite (2019 film)            1662\n",
      "Once Upon a Time in Hollywood   1078\n",
      "The Irishman                     924 \n",
      "\n",
      "                               Votes\n",
      "1917 (2019 film)                3658\n",
      "Parasite (2019 film)            1937\n",
      "Once Upon a Time in Hollywood   1405 \n",
      "\n"
     ]
    }
   ],
   "source": [
    "print('Initial Rankings:')\n",
    "print(tally_votes(academy_sim, list(test_2019.film)),'\\n')\n",
    "final_ballot, final_films = run_preferential_voting(academy_sim, list(test_2019.film),True)"
   ]
  },
  {
   "cell_type": "code",
   "execution_count": null,
   "metadata": {},
   "outputs": [],
   "source": []
  }
 ],
 "metadata": {
  "kernelspec": {
   "display_name": "Python 3",
   "language": "python",
   "name": "python3"
  },
  "language_info": {
   "codemirror_mode": {
    "name": "ipython",
    "version": 3
   },
   "file_extension": ".py",
   "mimetype": "text/x-python",
   "name": "python",
   "nbconvert_exporter": "python",
   "pygments_lexer": "ipython3",
   "version": "3.7.3"
  }
 },
 "nbformat": 4,
 "nbformat_minor": 2
}
