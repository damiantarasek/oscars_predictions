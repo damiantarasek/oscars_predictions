{
 "cells": [
  {
   "cell_type": "code",
   "execution_count": 1,
   "metadata": {},
   "outputs": [],
   "source": [
    "import pandas as pd\n",
    "import numpy as np\n",
    "from sklearn.tree import DecisionTreeClassifier"
   ]
  },
  {
   "cell_type": "code",
   "execution_count": 2,
   "metadata": {},
   "outputs": [
    {
     "data": {
      "text/plain": [
       "array([1, 8, 0, 2, 5, 7, 4, 3, 6])"
      ]
     },
     "execution_count": 2,
     "metadata": {},
     "output_type": "execute_result"
    }
   ],
   "source": [
    "\n",
    "num_nominees = 9\n",
    "\n",
    "np.random.choice(num_nominees, num_nominees, replace = False)"
   ]
  },
  {
   "cell_type": "code",
   "execution_count": 3,
   "metadata": {},
   "outputs": [],
   "source": [
    "?np.random.choice"
   ]
  },
  {
   "cell_type": "code",
   "execution_count": 4,
   "metadata": {},
   "outputs": [],
   "source": [
    "full_table = pd.read_csv('./data/processed_results/osc_df')"
   ]
  },
  {
   "cell_type": "markdown",
   "metadata": {},
   "source": [
    "# Setting Up our DataFrame"
   ]
  },
  {
   "cell_type": "code",
   "execution_count": 5,
   "metadata": {},
   "outputs": [
    {
     "name": "stdout",
     "output_type": "stream",
     "text": [
      "training set contains: 154 movies\n",
      "Prediciting on: 9 movies\n"
     ]
    }
   ],
   "source": [
    "min_year = 1995\n",
    "\n",
    "# # 80/20 Split (sequential) Excluding 2019\n",
    "# year_range = 2019 - min_year\n",
    "# train = full_table.loc[((full_table['year'] <= 2019 - 0.2 * year_range) & (full_table['year'] >= min_year))]\n",
    "# valid = full_table.loc[((full_table['year'] > 2019 - 0.2 * year_range) & (full_table['year'] < 2019))]\n",
    "\n",
    "# Training Set - Excluding 2019\n",
    "train = full_table.loc[((full_table['year'] < 2019) & (full_table['year'] > min_year))]\n",
    "test_2019 = full_table.loc[(full_table['year'] == 2019)]\n",
    "\n",
    "print('training set contains:', train.shape[0], 'movies')\n",
    "print('Prediciting on:', test_2019.shape[0], 'movies')"
   ]
  },
  {
   "cell_type": "code",
   "execution_count": 7,
   "metadata": {},
   "outputs": [],
   "source": [
    "# Identify predictors and response\n",
    "\n",
    "full_predictors = ['year','nom_gg_drama', 'winner_gg_drama', 'nom_gg_comedy', 'winner_gg_comedy',\n",
    "       'nom_pga', 'winner_pga', 'nom_bafta', 'winner_bafta', 'nom_dga', 'winner_dga',\n",
    "        'nom_sag', 'winner_sag', 'nom_cannes', 'winner_cannes','Nominations']"
   ]
  },
  {
   "cell_type": "markdown",
   "metadata": {},
   "source": [
    "# Simulating a Voter using a Decision Tree"
   ]
  },
  {
   "cell_type": "code",
   "execution_count": null,
   "metadata": {},
   "outputs": [],
   "source": [
    "voter1 = DecisionTreeClassifier(splitter='random',\n",
    "                                max_depth=3,\n",
    "                                min_samples_leaf=3,\n",
    "                                random_state = 92)"
   ]
  },
  {
   "cell_type": "code",
   "execution_count": 39,
   "metadata": {},
   "outputs": [],
   "source": [
    "def simulate_a_vote(model, train_df, to_predict_df, full_predictors):\n",
    "    train = train_df.copy()\n",
    "    test = to_predict_df.copy()\n",
    "    \n",
    "    # A noise column, randomly generated each time represents a voter's bias\n",
    "    train.loc[:,'Noise'] = np.random.rand(train_df.shape[0])\n",
    "    test.loc[:,'Noise'] = np.random.rand(to_predict_df.shape[0])\n",
    "\n",
    "    # Looking at a random amount of awards shows (similar to bootstrapping) reflects a voter's attention to the season\n",
    "    num_features = np.random.choice(len(full_predictors))\n",
    "    voter_features = list(np.random.choice(full_predictors, num_features)) + ['Noise']\n",
    "\n",
    "    x = np.array(train[voter_features])\n",
    "    y = np.array(train['Oscar_win'])\n",
    "    \n",
    "    model.fit(x,y)\n",
    "    # ProbA of the voter will represent the ranked votes\n",
    "    ballot_clean = model.predict_proba(np.array(test[voter_features]))[:,1]\n",
    "\n",
    "    # Add small random values to break up ties\n",
    "    ballot = ballot_clean + np.random.rand(len(ballot_clean))/10000\n",
    "\n",
    "    # Use np.argsort() to rank the order of the probA\n",
    "    # The Academy uses ranked votes calculate winner\n",
    "    rankings = np.abs(ballot.argsort() - len(ballot))\n",
    "    return rankings"
   ]
  },
  {
   "cell_type": "code",
   "execution_count": 107,
   "metadata": {},
   "outputs": [
    {
     "name": "stdout",
     "output_type": "stream",
     "text": [
      "This voter's ballot looks like: [5 9 4 6 1 7 8 2 3]\n",
      "This means their first choice is: Little Women (2019 film)\n"
     ]
    }
   ],
   "source": [
    "vote = simulate_a_vote(voter1, train, test_2019, full_predictors)\n",
    "print(\"This voter's ballot looks like:\",vote)\n",
    "print(\"This means their first choice is:\",list(test_2019.film)[np.argmin(vote)])"
   ]
  },
  {
   "cell_type": "markdown",
   "metadata": {},
   "source": [
    "# Simulating the Entire Academy"
   ]
  },
  {
   "cell_type": "code",
   "execution_count": 41,
   "metadata": {},
   "outputs": [],
   "source": [
    "def simulate_voting_body(num_voters, model, train_df, to_predict_df, full_predictors):\n",
    "    collected_ballots = np.zeros((num_voters, to_predict_df.shape[0]))\n",
    "    for i in range(num_voters):\n",
    "        collected_ballots[i,:] = simulate_a_vote(model, train_df, to_predict_df, full_predictors)\n",
    "    return collected_ballots"
   ]
  },
  {
   "cell_type": "code",
   "execution_count": 43,
   "metadata": {},
   "outputs": [
    {
     "data": {
      "text/plain": [
       "array([[3., 1., 9., 6., 8., 2., 5., 7., 4.],\n",
       "       [9., 4., 6., 3., 5., 8., 2., 7., 1.],\n",
       "       [9., 5., 6., 4., 8., 2., 7., 3., 1.],\n",
       "       [9., 7., 5., 4., 1., 2., 8., 6., 3.],\n",
       "       [5., 4., 6., 9., 8., 7., 1., 2., 3.]])"
      ]
     },
     "execution_count": 43,
     "metadata": {},
     "output_type": "execute_result"
    }
   ],
   "source": [
    "simulate_voting_body(5, voter1, train, test_2019, full_predictors)"
   ]
  },
  {
   "cell_type": "code",
   "execution_count": 133,
   "metadata": {},
   "outputs": [],
   "source": [
    "def tally_votes(voting_body, list_of_nominees):\n",
    "    # List of nominees must be in the same order as the vote index\n",
    "    firsts = np.where(voting_body==1,1,0)\n",
    "    tally = np.sum(firsts, axis = 0)\n",
    "    tallied_votes_df = pd.DataFrame(tally, columns=['Votes']).T\n",
    "    tallied_votes_df.columns = list_of_nominees\n",
    "    return tallied_votes_df.T"
   ]
  },
  {
   "cell_type": "code",
   "execution_count": 134,
   "metadata": {},
   "outputs": [
    {
     "data": {
      "text/html": [
       "<div>\n",
       "<style scoped>\n",
       "    .dataframe tbody tr th:only-of-type {\n",
       "        vertical-align: middle;\n",
       "    }\n",
       "\n",
       "    .dataframe tbody tr th {\n",
       "        vertical-align: top;\n",
       "    }\n",
       "\n",
       "    .dataframe thead th {\n",
       "        text-align: right;\n",
       "    }\n",
       "</style>\n",
       "<table border=\"1\" class=\"dataframe\">\n",
       "  <thead>\n",
       "    <tr style=\"text-align: right;\">\n",
       "      <th></th>\n",
       "      <th>Votes</th>\n",
       "    </tr>\n",
       "  </thead>\n",
       "  <tbody>\n",
       "    <tr>\n",
       "      <th>Once Upon a Time in Hollywood</th>\n",
       "      <td>264</td>\n",
       "    </tr>\n",
       "    <tr>\n",
       "      <th>Parasite (2019 film)</th>\n",
       "      <td>238</td>\n",
       "    </tr>\n",
       "    <tr>\n",
       "      <th>Little Women (2019 film)</th>\n",
       "      <td>118</td>\n",
       "    </tr>\n",
       "    <tr>\n",
       "      <th>1917 (2019 film)</th>\n",
       "      <td>103</td>\n",
       "    </tr>\n",
       "    <tr>\n",
       "      <th>Marriage Story</th>\n",
       "      <td>95</td>\n",
       "    </tr>\n",
       "    <tr>\n",
       "      <th>The Irishman</th>\n",
       "      <td>54</td>\n",
       "    </tr>\n",
       "    <tr>\n",
       "      <th>Ford v Ferrari</th>\n",
       "      <td>52</td>\n",
       "    </tr>\n",
       "    <tr>\n",
       "      <th>Joker (2019 film)</th>\n",
       "      <td>41</td>\n",
       "    </tr>\n",
       "    <tr>\n",
       "      <th>Jojo Rabbit</th>\n",
       "      <td>35</td>\n",
       "    </tr>\n",
       "  </tbody>\n",
       "</table>\n",
       "</div>"
      ],
      "text/plain": [
       "                               Votes\n",
       "Once Upon a Time in Hollywood    264\n",
       "Parasite (2019 film)             238\n",
       "Little Women (2019 film)         118\n",
       "1917 (2019 film)                 103\n",
       "Marriage Story                    95\n",
       "The Irishman                      54\n",
       "Ford v Ferrari                    52\n",
       "Joker (2019 film)                 41\n",
       "Jojo Rabbit                       35"
      ]
     },
     "execution_count": 134,
     "metadata": {},
     "output_type": "execute_result"
    }
   ],
   "source": [
    "this_academy = simulate_voting_body(1000, voter1, train, test_2019, full_predictors)\n",
    "tally_votes(this_academy, list(test_2019.film)).sort_values('Votes', ascending = False)"
   ]
  },
  {
   "cell_type": "markdown",
   "metadata": {},
   "source": [
    "# Tiered Voting Changes"
   ]
  },
  {
   "cell_type": "code",
   "execution_count": 135,
   "metadata": {},
   "outputs": [],
   "source": [
    "def remove_least(voting_body, list_of_nominees):\n",
    "    # List of nominees must be in the same order as the vote index\n",
    "    firsts = np.where(voting_body==1,1,0)\n",
    "    tally = np.sum(firsts, axis = 0)\n",
    "    least_votes_index = np.argmin(tally)\n",
    "    # Removes the least voted entry (from # 1 to 0)\n",
    "    voting_body = np.delete(voting_body, least_votes_index, axis = 1)\n",
    "    list_of_nominees.remove(list_of_nominees[least_votes_index])\n",
    "    return voting_body, list_of_nominees"
   ]
  },
  {
   "cell_type": "code",
   "execution_count": null,
   "metadata": {},
   "outputs": [],
   "source": [
    "def redistribute_votes(voting_body):\n",
    "    #### IN PROGRESS #####\n",
    "    \n",
    "    #every row goes from 1 to len(voting_body axis 1)\n",
    "    for ballot in \n",
    "    rankings = np.abs(ballot.argsort() - len(ballot))\n",
    "    \n",
    "    return voting_body"
   ]
  },
  {
   "cell_type": "code",
   "execution_count": 136,
   "metadata": {},
   "outputs": [
    {
     "data": {
      "text/html": [
       "<div>\n",
       "<style scoped>\n",
       "    .dataframe tbody tr th:only-of-type {\n",
       "        vertical-align: middle;\n",
       "    }\n",
       "\n",
       "    .dataframe tbody tr th {\n",
       "        vertical-align: top;\n",
       "    }\n",
       "\n",
       "    .dataframe thead th {\n",
       "        text-align: right;\n",
       "    }\n",
       "</style>\n",
       "<table border=\"1\" class=\"dataframe\">\n",
       "  <thead>\n",
       "    <tr style=\"text-align: right;\">\n",
       "      <th></th>\n",
       "      <th>Votes</th>\n",
       "    </tr>\n",
       "  </thead>\n",
       "  <tbody>\n",
       "    <tr>\n",
       "      <th>Once Upon a Time in Hollywood</th>\n",
       "      <td>264</td>\n",
       "    </tr>\n",
       "    <tr>\n",
       "      <th>Parasite (2019 film)</th>\n",
       "      <td>238</td>\n",
       "    </tr>\n",
       "    <tr>\n",
       "      <th>Little Women (2019 film)</th>\n",
       "      <td>118</td>\n",
       "    </tr>\n",
       "    <tr>\n",
       "      <th>1917 (2019 film)</th>\n",
       "      <td>103</td>\n",
       "    </tr>\n",
       "    <tr>\n",
       "      <th>Marriage Story</th>\n",
       "      <td>95</td>\n",
       "    </tr>\n",
       "    <tr>\n",
       "      <th>The Irishman</th>\n",
       "      <td>54</td>\n",
       "    </tr>\n",
       "    <tr>\n",
       "      <th>Ford v Ferrari</th>\n",
       "      <td>52</td>\n",
       "    </tr>\n",
       "    <tr>\n",
       "      <th>Joker (2019 film)</th>\n",
       "      <td>41</td>\n",
       "    </tr>\n",
       "    <tr>\n",
       "      <th>Jojo Rabbit</th>\n",
       "      <td>35</td>\n",
       "    </tr>\n",
       "  </tbody>\n",
       "</table>\n",
       "</div>"
      ],
      "text/plain": [
       "                               Votes\n",
       "Once Upon a Time in Hollywood    264\n",
       "Parasite (2019 film)             238\n",
       "Little Women (2019 film)         118\n",
       "1917 (2019 film)                 103\n",
       "Marriage Story                    95\n",
       "The Irishman                      54\n",
       "Ford v Ferrari                    52\n",
       "Joker (2019 film)                 41\n",
       "Jojo Rabbit                       35"
      ]
     },
     "execution_count": 136,
     "metadata": {},
     "output_type": "execute_result"
    }
   ],
   "source": [
    "tally_votes(this_academy, list(test_2019.film)).sort_values('Votes', ascending = False)"
   ]
  },
  {
   "cell_type": "code",
   "execution_count": 137,
   "metadata": {},
   "outputs": [
    {
     "name": "stdout",
     "output_type": "stream",
     "text": [
      "8\n"
     ]
    },
    {
     "data": {
      "text/html": [
       "<div>\n",
       "<style scoped>\n",
       "    .dataframe tbody tr th:only-of-type {\n",
       "        vertical-align: middle;\n",
       "    }\n",
       "\n",
       "    .dataframe tbody tr th {\n",
       "        vertical-align: top;\n",
       "    }\n",
       "\n",
       "    .dataframe thead th {\n",
       "        text-align: right;\n",
       "    }\n",
       "</style>\n",
       "<table border=\"1\" class=\"dataframe\">\n",
       "  <thead>\n",
       "    <tr style=\"text-align: right;\">\n",
       "      <th></th>\n",
       "      <th>Votes</th>\n",
       "    </tr>\n",
       "  </thead>\n",
       "  <tbody>\n",
       "    <tr>\n",
       "      <th>Once Upon a Time in Hollywood</th>\n",
       "      <td>264</td>\n",
       "    </tr>\n",
       "    <tr>\n",
       "      <th>Parasite (2019 film)</th>\n",
       "      <td>238</td>\n",
       "    </tr>\n",
       "    <tr>\n",
       "      <th>Little Women (2019 film)</th>\n",
       "      <td>118</td>\n",
       "    </tr>\n",
       "    <tr>\n",
       "      <th>1917 (2019 film)</th>\n",
       "      <td>103</td>\n",
       "    </tr>\n",
       "    <tr>\n",
       "      <th>Marriage Story</th>\n",
       "      <td>95</td>\n",
       "    </tr>\n",
       "    <tr>\n",
       "      <th>The Irishman</th>\n",
       "      <td>54</td>\n",
       "    </tr>\n",
       "    <tr>\n",
       "      <th>Ford v Ferrari</th>\n",
       "      <td>52</td>\n",
       "    </tr>\n",
       "    <tr>\n",
       "      <th>Joker (2019 film)</th>\n",
       "      <td>41</td>\n",
       "    </tr>\n",
       "  </tbody>\n",
       "</table>\n",
       "</div>"
      ],
      "text/plain": [
       "                               Votes\n",
       "Once Upon a Time in Hollywood    264\n",
       "Parasite (2019 film)             238\n",
       "Little Women (2019 film)         118\n",
       "1917 (2019 film)                 103\n",
       "Marriage Story                    95\n",
       "The Irishman                      54\n",
       "Ford v Ferrari                    52\n",
       "Joker (2019 film)                 41"
      ]
     },
     "execution_count": 137,
     "metadata": {},
     "output_type": "execute_result"
    }
   ],
   "source": [
    "new_votes, new_noms = remove_least(this_academy, list(test_2019.film))\n",
    "\n",
    "print(len(new_noms))\n",
    "\n",
    "tally_votes(new_votes, new_noms).sort_values('Votes', ascending = False)"
   ]
  },
  {
   "cell_type": "markdown",
   "metadata": {},
   "source": [
    "## Currently have to figure out how to re-rank every ballot"
   ]
  },
  {
   "cell_type": "code",
   "execution_count": null,
   "metadata": {},
   "outputs": [],
   "source": []
  }
 ],
 "metadata": {
  "kernelspec": {
   "display_name": "Python 3",
   "language": "python",
   "name": "python3"
  },
  "language_info": {
   "codemirror_mode": {
    "name": "ipython",
    "version": 3
   },
   "file_extension": ".py",
   "mimetype": "text/x-python",
   "name": "python",
   "nbconvert_exporter": "python",
   "pygments_lexer": "ipython3",
   "version": "3.7.3"
  }
 },
 "nbformat": 4,
 "nbformat_minor": 2
}
